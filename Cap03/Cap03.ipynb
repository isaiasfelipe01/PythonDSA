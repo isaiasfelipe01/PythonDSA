{
 "cells": [
  {
   "cell_type": "markdown",
   "metadata": {},
   "source": [
    "# Convertendo pseudocódigo em programa"
   ]
  },
  {
   "cell_type": "markdown",
   "metadata": {},
   "source": [
    "## Pseudocódigo 1 - área de um paralelogramo\n",
    "Início\n",
    "    Exiba \"Bem vindo ao Calculador de Área de Paralelogramo\";\n",
    "    Peça para o usuário inserir o comprimento da base;\n",
    "    Armazene o comprimento da base;\n",
    "    Peça para o usuário inserir a altura;\n",
    "    Armazene a altura em uma variável;\n",
    "    Calcule a área do paralelogramo : base * altura;\n",
    "    Armazene o resultado em uma variável;\n",
    "    Exiba o resultado.\n",
    "Fim"
   ]
  },
  {
   "cell_type": "code",
   "execution_count": 2,
   "metadata": {},
   "outputs": [
    {
     "name": "stdout",
     "output_type": "stream",
     "text": [
      "Bem vindo ao Calculador de Área de Paralelogramo\n",
      "A área do paralelogramo é 6.0\n"
     ]
    }
   ],
   "source": [
    "print(\"Bem vindo ao Calculador de Área de Paralelogramo\")\n",
    "base = float(input(\"Insira o comprimento da base: \"))\n",
    "altura = float(input(\"Insira a altura: \"))\n",
    "area = base * altura\n",
    "print(\"A área do paralelogramo é\", area)"
   ]
  },
  {
   "cell_type": "markdown",
   "metadata": {},
   "source": [
    "## Pseudocódigo 2 - calculadora simples\n",
    "Início\n",
    "    Exibir \"Bem vindo a calculadora\";\n",
    "    Perguntar qual o primeiro número;\n",
    "    Armazenar primeiro número em uma variável;\n",
    "    Perguntar ap usuário qual operação deseja fazer;\n",
    "    Armazenar operação desejada pelo usuário em uma variável;\n",
    "    Perguntar qual o segundo número;\n",
    "    Armazenar segundo número em uma variável;\n",
    "    Realizar a operação desejada pelo usuário;\n",
    "    Armazenar operação em uma variável;\n",
    "    Exibir resultado da operação realizada.\n",
    "Fim\n"
   ]
  },
  {
   "cell_type": "code",
   "execution_count": 9,
   "metadata": {},
   "outputs": [
    {
     "name": "stdout",
     "output_type": "stream",
     "text": [
      "Bem vindo a calculadora!!\n",
      "O resultado da divisão é 0.0\n"
     ]
    }
   ],
   "source": [
    "print(\"Bem vindo a calculadora!!\")\n",
    "num1 = float(input(\"Digite o primeiro número: \"))\n",
    "operacao = input(str(\"Qual operação deseja realizar? (+, -, *, /): \"))\n",
    "num2 = float(input(\"Digite o segundo número: \"))\n",
    "if operacao == \"+\":\n",
    "    calculo = num1 + num2\n",
    "    print(\"O resultado da soma é\", calculo)\n",
    "elif operacao == \"-\":\n",
    "    calculo = num1 - num2\n",
    "    print(\"O resultado da subtração é\", calculo)\n",
    "elif operacao == \"*\":\n",
    "    calculo = num1 * num2\n",
    "    print(\"O resultado da multiplicação é\", calculo)\n",
    "elif operacao == \"/\":\n",
    "    if num2 == 0:\n",
    "        print(\"Não é possível dividir por zero\")\n",
    "    else:\n",
    "        calculo = num1 / num2\n",
    "        print(\"O resultado da divisão é\", calculo)\n",
    "else:\n",
    "    print(\"Operação inválida\")"
   ]
  },
  {
   "cell_type": "markdown",
   "metadata": {},
   "source": [
    "## Pseudocódigo 3 -Algoritmo Bubble Sort\n",
    "Bubble Sort é um algoritmo de ordenação simples que funciona comparando cada elemento com o próximo, e trocando-os de lugar se eles estiverem em ordem incorreta. O algoritmo repete esses proecsso várias vezes, até que todos os elementos estejam ordenados. A cada passagem o maior emento \"flutua\" para o final do array, como uma bolha, dando origem ao nome do algoritmo.\n",
    "\n",
    "Início\n",
    "    Para cada elemento i no array  de tamanho n;\n",
    "        Para cada elemento j no array de tamanho n-1\n",
    "            Se elemento i for maior que o elemento j\n",
    "                Troque os elementos i e j\n",
    "    Exiba o array\n",
    "Fim"
   ]
  },
  {
   "cell_type": "code",
   "execution_count": 28,
   "metadata": {},
   "outputs": [
    {
     "name": "stdout",
     "output_type": "stream",
     "text": [
      "[0, 1, 2, 3, 4, 5, 6, 7, 8, 9, 10, 12, 14, 16, 18, 20, 22, 24, 32, 46, 64]\n"
     ]
    }
   ],
   "source": [
    "lista = [5, 2, 6, 24, 8, 7, 3, 9, 1, 4, 10, 46, 64, 32, 0, 20, 14, 16, 12, 18, 22]\n",
    "def bubble_sort(arr):\n",
    "    n = len(arr)\n",
    "    #Para cada ememnto i do array\n",
    "    for i in range(n):\n",
    "        #Para cada elemento j do array\n",
    "        for j in range(0, n-i-1):\n",
    "            #Se o elemento j é maior que o elemento j+1\n",
    "            if arr[j] > arr[j+1]:\n",
    "                #Troca os elementos\n",
    "                arr[j], arr[j+1] = arr[j+1], arr[j]\n",
    "    return arr\n",
    "print(bubble_sort(lista))"
   ]
  }
 ],
 "metadata": {
  "kernelspec": {
   "display_name": "Python 3",
   "language": "python",
   "name": "python3"
  },
  "language_info": {
   "codemirror_mode": {
    "name": "ipython",
    "version": 3
   },
   "file_extension": ".py",
   "mimetype": "text/x-python",
   "name": "python",
   "nbconvert_exporter": "python",
   "pygments_lexer": "ipython3",
   "version": "3.11.9"
  }
 },
 "nbformat": 4,
 "nbformat_minor": 2
}
