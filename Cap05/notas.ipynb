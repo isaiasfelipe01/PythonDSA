{
 "cells": [
  {
   "cell_type": "code",
   "execution_count": 38,
   "metadata": {},
   "outputs": [
    {
     "name": "stdout",
     "output_type": "stream",
     "text": [
      "[2, 3, 5, 7, 11, 13, 17, 19, 23, 29]\n",
      "CPU times: total: 0 ns\n",
      "Wall time: 0 ns\n"
     ]
    }
   ],
   "source": [
    "%%time\n",
    "primo = []\n",
    "for i in range(2, 31):\n",
    "    for j in range(2, i):\n",
    "        if i % j == 0:\n",
    "            break\n",
    "    else:\n",
    "        primo.append(i)\n",
    "print(primo)"
   ]
  },
  {
   "cell_type": "code",
   "execution_count": 39,
   "metadata": {},
   "outputs": [
    {
     "name": "stdout",
     "output_type": "stream",
     "text": [
      "Abacaxi\n",
      "Banana\n",
      "Caju\n",
      "Damasco\n",
      "Embaúba\n",
      "Figo\n",
      "Goiaba\n"
     ]
    }
   ],
   "source": [
    "lista = ['Abacaxi', 'Banana', 'Caju', 'Damasco', 'Embaúba', 'Figo', 'Goiaba']\n",
    "for c in range(0, len(lista)):\n",
    "    print(lista[c])"
   ]
  },
  {
   "cell_type": "code",
   "execution_count": 40,
   "metadata": {},
   "outputs": [
    {
     "name": "stdout",
     "output_type": "stream",
     "text": [
      "Bem vindo, Isaias!\n"
     ]
    }
   ],
   "source": [
    "def primeirafunc(arg1, *arg2):\n",
    "    if not arg2:\n",
    "        frase = f'Bem vindo, {arg1}!'\n",
    "    else:\n",
    "        frase = f'Bem vindo, {arg1} {arg2}!'\n",
    "    return print(frase)\n",
    "\n",
    "nome = str(input('Digite seu nome: '))\n",
    "pergunta = str(input('Você tem sobrenome? [S/N] ')).upper()\n",
    "if pergunta == 'S':\n",
    "    sobrenome = str(input('Digite seu sobrenome: '))\n",
    "if pergunta == 'N':\n",
    "    primeirafunc(nome)\n",
    "elif pergunta == 'S':\n",
    "    primeirafunc(nome, sobrenome)"
   ]
  },
  {
   "cell_type": "code",
   "execution_count": 41,
   "metadata": {},
   "outputs": [
    {
     "name": "stdout",
     "output_type": "stream",
     "text": [
      "9\n",
      "False\n",
      "nohtyP\n"
     ]
    }
   ],
   "source": [
    "#Lambda cria uma funão em tempo de execução\n",
    "potencia = lambda num: num ** 2\n",
    "print(potencia(3))\n",
    "par = lambda num: num % 2 == 0\n",
    "print(par(5))\n",
    "reverso = lambda string: string[::-1]\n",
    "print(reverso('Python'))"
   ]
  },
  {
   "cell_type": "code",
   "execution_count": 42,
   "metadata": {},
   "outputs": [
    {
     "name": "stdout",
     "output_type": "stream",
     "text": [
      "[0, 1, 2, 3, 4, 5, 6, 7, 8, 9]\n",
      "[0, 1, 2, 3, 4]\n",
      "--------------------------------------------------\n",
      "['maçã', 'melancia', 'manga']\n",
      "--------------------------------------------------\n",
      "{'Bob': 68, 'Michel': 78, 'Lucas': 98, 'Ana': 88}\n",
      "{'Bob': 'Reprovado', 'Michel': 'Aprovado', 'Lucas': 'Aprovado', 'Ana': 'Aprovado'}\n"
     ]
    }
   ],
   "source": [
    "#list comprahashion\n",
    "lista_1 = [c for c in range(10)]\n",
    "print(lista_1)\n",
    "lista_2 = [c for c in range(10) if c < 5]\n",
    "print(lista_2)\n",
    "print('-'*50)\n",
    "lista_fruta = ['banana', 'maçã', 'melancia', 'manga', 'laranja']\n",
    "new_lista = [c for c in lista_fruta if 'm' in c]\n",
    "print(new_lista)\n",
    "print('-'*50)\n",
    "dict_alunos = {'Bob': 68, 'Michel': 78, 'Lucas': 98, 'Ana': 88}\n",
    "#mudando o valor pelo status\n",
    "dict_alunos_status = {c: ('Aprovado' if v > 70 else 'Reprovado') for (c, v) in dict_alunos.items()}\n",
    "print(dict_alunos)\n",
    "print(dict_alunos_status)"
   ]
  }
 ],
 "metadata": {
  "kernelspec": {
   "display_name": "Python 3",
   "language": "python",
   "name": "python3"
  },
  "language_info": {
   "codemirror_mode": {
    "name": "ipython",
    "version": 3
   },
   "file_extension": ".py",
   "mimetype": "text/x-python",
   "name": "python",
   "nbconvert_exporter": "python",
   "pygments_lexer": "ipython3",
   "version": "3.11.9"
  }
 },
 "nbformat": 4,
 "nbformat_minor": 2
}
