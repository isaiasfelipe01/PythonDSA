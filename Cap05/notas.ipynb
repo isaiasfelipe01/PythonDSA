{
 "cells": [
  {
   "cell_type": "code",
   "execution_count": 8,
   "metadata": {},
   "outputs": [
    {
     "name": "stdout",
     "output_type": "stream",
     "text": [
      "[2, 3, 5, 7, 11, 13, 17, 19, 23, 29]\n",
      "CPU times: total: 0 ns\n",
      "Wall time: 0 ns\n"
     ]
    }
   ],
   "source": [
    "%%time\n",
    "primo = []\n",
    "for i in range(2, 31):\n",
    "    for j in range(2, i):\n",
    "        if i % j == 0:\n",
    "            break\n",
    "    else:\n",
    "        primo.append(i)\n",
    "print(primo)"
   ]
  },
  {
   "cell_type": "code",
   "execution_count": 15,
   "metadata": {},
   "outputs": [
    {
     "name": "stdout",
     "output_type": "stream",
     "text": [
      "Abacaxi\n",
      "Banana\n",
      "Caju\n",
      "Damasco\n",
      "Embaúba\n",
      "Figo\n",
      "Goiaba\n"
     ]
    }
   ],
   "source": [
    "lista = ['Abacaxi', 'Banana', 'Caju', 'Damasco', 'Embaúba', 'Figo', 'Goiaba']\n",
    "for c in range(0, len(lista)):\n",
    "    print(lista[c])"
   ]
  },
  {
   "cell_type": "code",
   "execution_count": 30,
   "metadata": {},
   "outputs": [
    {
     "name": "stdout",
     "output_type": "stream",
     "text": [
      "Bem vindo, isaias!\n"
     ]
    }
   ],
   "source": [
    "def primeirafunc(arg1, *arg2):\n",
    "    if not arg2:\n",
    "        frase = f'Bem vindo, {arg1}!'\n",
    "    else:\n",
    "        frase = f'Bem vindo, {arg1} {arg2}!'\n",
    "    return print(frase)\n",
    "\n",
    "nome = str(input('Digite seu nome: '))\n",
    "pergunta = str(input('Você tem sobrenome? [S/N] ')).upper()\n",
    "if pergunta == 'S':\n",
    "    sobrenome = str(input('Digite seu sobrenome: '))\n",
    "if pergunta == 'N':\n",
    "    primeirafunc(nome)\n",
    "elif pergunta == 'S':\n",
    "    primeirafunc(nome, sobrenome)"
   ]
  }
 ],
 "metadata": {
  "kernelspec": {
   "display_name": "Python 3",
   "language": "python",
   "name": "python3"
  },
  "language_info": {
   "codemirror_mode": {
    "name": "ipython",
    "version": 3
   },
   "file_extension": ".py",
   "mimetype": "text/x-python",
   "name": "python",
   "nbconvert_exporter": "python",
   "pygments_lexer": "ipython3",
   "version": "3.11.9"
  }
 },
 "nbformat": 4,
 "nbformat_minor": 2
}
