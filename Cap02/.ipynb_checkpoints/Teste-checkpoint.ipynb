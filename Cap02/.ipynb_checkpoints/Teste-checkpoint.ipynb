{
 "cells": [
  {
   "cell_type": "code",
   "execution_count": 1,
   "id": "a0657298-a96f-43de-8d17-2903c289e95d",
   "metadata": {},
   "outputs": [
    {
     "name": "stdout",
     "output_type": "stream",
     "text": [
      "Olá mundo!\n"
     ]
    }
   ],
   "source": [
    "print(\"Olá mundo!\")"
   ]
  },
  {
   "cell_type": "markdown",
   "id": "8165e608-e249-441d-8102-bdcca98256e7",
   "metadata": {},
   "source": [
    "## Gerando códigos com perguntas feitas ao ChatGPT!"
   ]
  },
  {
   "cell_type": "markdown",
   "id": "c68a7fe3-5e38-4a14-9497-c2036d246ac6",
   "metadata": {},
   "source": [
    "Gere código Python que crie uma lista com os números entre 1 e 100 e imprima os números pares, mas somente se o número for divisível por 4."
   ]
  },
  {
   "cell_type": "code",
   "execution_count": 2,
   "id": "fc6a5d95-6a50-4450-a61b-0218c4228a75",
   "metadata": {},
   "outputs": [],
   "source": [
    "# Cria a lista com números de 1 a 100\n",
    "numeros = list(range(1, 101))"
   ]
  },
  {
   "cell_type": "code",
   "execution_count": 3,
   "id": "be7b080a-96ef-4aaa-a4b9-2b33b8ea1dfb",
   "metadata": {},
   "outputs": [
    {
     "data": {
      "text/plain": [
       "list"
      ]
     },
     "execution_count": 3,
     "metadata": {},
     "output_type": "execute_result"
    }
   ],
   "source": [
    "type(numeros)"
   ]
  },
  {
   "cell_type": "code",
   "execution_count": 4,
   "id": "267bba08-ccab-42b1-9579-2d3c66ed19ec",
   "metadata": {},
   "outputs": [
    {
     "name": "stdout",
     "output_type": "stream",
     "text": [
      "4\n",
      "8\n",
      "12\n",
      "16\n",
      "20\n",
      "24\n",
      "28\n",
      "32\n",
      "36\n",
      "40\n",
      "44\n",
      "48\n",
      "52\n",
      "56\n",
      "60\n",
      "64\n",
      "68\n",
      "72\n",
      "76\n",
      "80\n",
      "84\n",
      "88\n",
      "92\n",
      "96\n",
      "100\n"
     ]
    }
   ],
   "source": [
    "# Filtra e imprime os números que são pares e divisíveis por 4\n",
    "for numero in numeros:\n",
    "    if numero % 2 == 0 and numero % 4 == 0:\n",
    "        print(numero)\n"
   ]
  },
  {
   "cell_type": "markdown",
   "id": "fd38d4ad-fc6f-4de5-8cc3-270bfee2911a",
   "metadata": {},
   "source": [
    "Gere código Python que crie uma lista com os números entre 1 e 100 e imprima os números pares, mas somente se o número for divisível por 4, usando list comprehension."
   ]
  },
  {
   "cell_type": "code",
   "execution_count": 5,
   "id": "30d74543-1508-43ba-ba85-9317b8c4664a",
   "metadata": {},
   "outputs": [
    {
     "name": "stdout",
     "output_type": "stream",
     "text": [
      "[4, 8, 12, 16, 20, 24, 28, 32, 36, 40, 44, 48, 52, 56, 60, 64, 68, 72, 76, 80, 84, 88, 92, 96, 100]\n"
     ]
    }
   ],
   "source": [
    "# Cria a lista com números de 1 a 100 e filtra os que são pares e divisíveis por 4\n",
    "numeros_pares_div4 = [numero for numero in range(1, 101) if numero % 2 == 0 and numero % 4 == 0]\n",
    "\n",
    "# Imprime os números filtrados\n",
    "print(numeros_pares_div4)\n"
   ]
  },
  {
   "cell_type": "markdown",
   "id": "e99e4935-d5c9-43e6-be8d-5d136c6061d8",
   "metadata": {},
   "source": [
    "## FIM!!!"
   ]
  }
 ],
 "metadata": {
  "kernelspec": {
   "display_name": "Python 3 (ipykernel)",
   "language": "python",
   "name": "python3"
  },
  "language_info": {
   "codemirror_mode": {
    "name": "ipython",
    "version": 3
   },
   "file_extension": ".py",
   "mimetype": "text/x-python",
   "name": "python",
   "nbconvert_exporter": "python",
   "pygments_lexer": "ipython3",
   "version": "3.11.9"
  }
 },
 "nbformat": 4,
 "nbformat_minor": 5
}
